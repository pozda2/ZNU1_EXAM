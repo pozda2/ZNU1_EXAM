{
 "cells": [
  {
   "cell_type": "markdown",
   "id": "b0a7606e-0449-4931-b8b9-be8545d2d8db",
   "metadata": {},
   "source": [
    "# Clients of shop\n",
    "\n",
    "Information on customers who have made a purchase with a loan and subsequent information on whether the loan was a problem loan."
   ]
  },
  {
   "cell_type": "markdown",
   "id": "8160d8d5-0fb6-4a47-970d-8c72e88abf9d",
   "metadata": {},
   "source": [
    "# Columns\n",
    "* month: Month of purchase (1-12)\n",
    "* credit_amount: Loan request\n",
    "* credit_term: Loan terms (length of loan)\n",
    "* age: age of customer\n",
    "* sex: sex of customer\n",
    "* education: education of customer\n",
    "* product_type: the product for which the loan was agreed\n",
    "* having_children_flg: customer has child (0, 1)\n",
    "* region: code of customer location category\n",
    "* income: Customer income\n",
    "* family_status: Family status (married, unmarried, other)\n",
    "* phone_operator: code of phone operator\n",
    "* is_client: Is already our client?\n",
    "* bad_client_target: 0 for good client, 1 for bad client"
   ]
  },
  {
   "cell_type": "markdown",
   "id": "089dc43f-50e6-49b1-85ed-f5ace093348b",
   "metadata": {},
   "source": [
    "# Task\n",
    "Create a binary classification model, that advice salesman, whether it is safe to offer the customer a load."
   ]
  },
  {
   "cell_type": "code",
   "execution_count": null,
   "id": "1fd7c6cc-7a75-4e0a-957f-29fd0c35037f",
   "metadata": {},
   "outputs": [],
   "source": []
  }
 ],
 "metadata": {
  "kernelspec": {
   "display_name": "Python 3 (ipykernel)",
   "language": "python",
   "name": "python3"
  },
  "language_info": {
   "codemirror_mode": {
    "name": "ipython",
    "version": 3
   },
   "file_extension": ".py",
   "mimetype": "text/x-python",
   "name": "python",
   "nbconvert_exporter": "python",
   "pygments_lexer": "ipython3",
   "version": "3.8.10"
  }
 },
 "nbformat": 4,
 "nbformat_minor": 5
}
