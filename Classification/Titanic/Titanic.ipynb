{
 "cells": [
  {
   "cell_type": "markdown",
   "id": "7cd53c25-15da-4cd4-996e-fd767314379a",
   "metadata": {},
   "source": [
    "# Titanic\n",
    "The sinking of the Titanic is one of the most infamous shipwrecks in history.\n",
    "\n",
    "On April 15, 1912, during her maiden voyage, the widely considered \"unsinkable\" RMS Titanic sank after colliding with an iceberg. \n",
    "\n",
    "Unfortunately, there weren’t enough lifeboats for everyone onboard, resulting in the death of 1502 out of 2224 passengers and crew.\n",
    "\n",
    "While there was some element of luck involved in surviving, it seems some groups of people were more likely to survive than others."
   ]
  },
  {
   "attachments": {},
   "cell_type": "markdown",
   "id": "29d38035-fb6e-48fd-8e1d-4a84ae8c672a",
   "metadata": {},
   "source": [
    "## Data description\n",
    "  * PassengerId - Passenger Number\n",
    "  * Survived\t- 0 = No, 1 = Yes\n",
    "  * Pclass - Ticket class\t1 = 1st, 2 = 2nd, 3 = 3rd\n",
    "  * Name - Passenger name\n",
    "  * Sex - male, famale\n",
    "  * Age - Age in years\n",
    "  * SibSp - # of siblings / spouses aboard the Titanic\n",
    "  * Parch - # of parents / children aboard the Titanic\n",
    "  * Ticket - Ticket number\n",
    "  * Fare - Passenger fare\n",
    "  * Canbin - Cabin number\n",
    "  * Embarked - Port of Embarkation\tC = Cherbourg, Q = Queenstown, S = Southampton"
   ]
  },
  {
   "cell_type": "markdown",
   "id": "6bb2b2da-b8eb-4236-afc0-63a585e0a41b",
   "metadata": {},
   "source": [
    "# Task\n",
    "Create a model, that predict if passenger will survive or not."
   ]
  },
  {
   "cell_type": "code",
   "execution_count": null,
   "id": "dd0e89ea-61d7-46cb-8d74-faf901f6f6e1",
   "metadata": {},
   "outputs": [],
   "source": []
  }
 ],
 "metadata": {
  "kernelspec": {
   "display_name": "Python 3 (ipykernel)",
   "language": "python",
   "name": "python3"
  },
  "language_info": {
   "codemirror_mode": {
    "name": "ipython",
    "version": 3
   },
   "file_extension": ".py",
   "mimetype": "text/x-python",
   "name": "python",
   "nbconvert_exporter": "python",
   "pygments_lexer": "ipython3",
   "version": "3.8.10"
  }
 },
 "nbformat": 4,
 "nbformat_minor": 5
}
