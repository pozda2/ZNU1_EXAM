{
 "cells": [
  {
   "cell_type": "markdown",
   "id": "05ca2dd1-0245-4b66-8284-47a0fd762136",
   "metadata": {},
   "source": [
    "# Hotel reservations\n",
    "\n",
    "This dataset contains 119390 observations for a City Hotel and a Resort Hotel. Each observation represents a hotel booking between the 1st of July 2015 and 31st of August 2017, including booking that effectively arrived and booking that were canceled."
   ]
  },
  {
   "attachments": {},
   "cell_type": "markdown",
   "id": "dcb14a23-7af1-42fd-bbc9-8d96d6dd9f59",
   "metadata": {},
   "source": [
    "# Columns\n",
    "\n",
    "* hotel: The datasets contains the booking information of two hotel. One of the hotels is a resort hotel and the other is a city hotel.\n",
    "* is_canceled: 0 or 1 for cancalation (target)\n",
    "* lead_time: Number of days that elapsed between the entering date of the booking into the PMS and the arrival date.\n",
    "* arrival_date_year: Year of arrival date\n",
    "* arrival_date_month: Month of arrival date with 12 categories: “January” to “December”\n",
    "* arrival_date_week_number: Week number of the arrival date\n",
    "* arrival_date_day_of_month: Day of the month of the arrival date  \n",
    "* stays_in_weekend_nights: Number of weekend nights (Saturday or Sunday) the guest stayed or booked to stay at the hotel\n",
    "* stays_in_week_nights: Number of week nights (Monday to Friday) the guest stayed or booked to stay at the hotel BO and BL/Calculated by counting the number of week nights \n",
    "* adults: Number of adults\n",
    "* children: Number of children\n",
    "* babies: Number of babies\n",
    "* meal: BB – Bed & Breakfast, Half Board (Breakfast and Dinner normally),  FB: Full Board (Beakfast, Lunch, and Dinner)\n",
    "* country: Country of origin.\n",
    "* market_segment: Market segment designation. In categories, the term “TA” means “Travel Agents” and “TO” means “Tour Operators”\n",
    "* distribution_channel: Booking distribution channel. The term “TA” means “Travel Agents” and “TO” means “Tour Operators” \n",
    "* is_repeated_guest: Value indicating if the booking name was from a repeated guest (1) or not (0)\n",
    "* previous_cancellations: Number of previous bookings that were cancelled by the customer prior to the current booking\n",
    "* previous_bookings_not_canceled: Number of previous bookings not cancelled by the customer prior to the current booking\n",
    "* reserved_room_type: Code of room type reserved. Code is presented instead of designation for anonymity reasons\n",
    "* assigned_room_type: Code for the type of room assigned to the booking. Sometimes the assigned room type differs from the reserved room type due to hotel operation reasons (e.g. overbooking) or by customer request. Code is presented instead of designation for anonymity reasons\n",
    "* booking_changes: Number of changes/amendments made to the booking from the moment the booking was entered on the PMS until the moment of check-in or cancellation\n",
    "* deposit_type: No Deposit – no deposit was made; Non Refund – a deposit was made in the value of the total stay cost; Refundable – a deposit was made with a value under the total cost of stay.\n",
    "* agent: ID of the travel agency that made the booking\n",
    "* company: ID of the company/entity that made the booking or responsible for paying the booking. ID is presented instead of designation for anonymity reasons\n",
    "* days_in_waiting_list: Number of days the booking was in the waiting list before it was confirmed to the customer\n",
    "* customer_type: Group – when the booking is associated to a group; Transient – when the booking is not part of a group or contract, and is not associated to other transient booking; Transient-party – when the booking is transient, but is associated to at least other transient booking\n",
    "* adr: Average Daily Rate (Calculated by dividing the sum of all lodging transactions by the total number of staying nights)\n",
    "* required_car_parking_spaces: Number of car parking spaces required by the customer\n",
    "* total_of_special_requests: Number of special requests made by the customer (e.g. twin bed or high floor)\n",
    "* reservation_status: Check-Out – customer has checked in but already departed; No-Show – customer did not check-in and did inform the hotel of the reason why\n",
    "* reservation_status_date: Date at which the last status was set. This variable can be used in conjunction with the ReservationStatus to understand when was the booking canceled or when did the customer checked-out of the hotel \n"
   ]
  },
  {
   "cell_type": "markdown",
   "id": "184689e5-0d37-424e-9a04-fffdb32666c0",
   "metadata": {},
   "source": [
    "# Task\n",
    "Create a model, that predict, whether the guest arrives or cancels the reservation."
   ]
  },
  {
   "cell_type": "code",
   "execution_count": null,
   "id": "5900bd12-499a-432c-946f-0c4cdcc94f83",
   "metadata": {},
   "outputs": [],
   "source": []
  }
 ],
 "metadata": {
  "kernelspec": {
   "display_name": "Python 3 (ipykernel)",
   "language": "python",
   "name": "python3"
  },
  "language_info": {
   "codemirror_mode": {
    "name": "ipython",
    "version": 3
   },
   "file_extension": ".py",
   "mimetype": "text/x-python",
   "name": "python",
   "nbconvert_exporter": "python",
   "pygments_lexer": "ipython3",
   "version": "3.8.10"
  }
 },
 "nbformat": 4,
 "nbformat_minor": 5
}
