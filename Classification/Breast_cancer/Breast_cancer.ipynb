{
 "cells": [
  {
   "cell_type": "markdown",
   "id": "81e6a5cf-5098-4464-8f12-ec1766efce65",
   "metadata": {},
   "source": [
    "# The Breast Cancer dataset\n",
    "\n",
    "The Breast Cancer Wisconsin (Prognostic) dataset brings together data collected from hundreds of breast cancer cases, making it valuable for predictive prognosis. It includes features such as radius, texture, area, compactness and concavity that were generated from the a digitized fine needle aspirate (FNA) of the mass to generate characteristics of the cell nuclei present in each case.\n",
    "\n",
    "This breaking dataset was created by some leading minds in medical science; Dr William H. Wolberg at the University Of Wisconsin Clinical Sciences Center alongside W. Nick Street at the university's Computer Sciences Dept., and Olvi L Mangasarian also based there - all credited with creating various decision tree construction systems using linear programming models to accurately predict disease recurrences within an incredibly short time frame."
   ]
  },
  {
   "cell_type": "markdown",
   "id": "b6161298-58b0-4cfa-86d4-5e5804600488",
   "metadata": {},
   "source": [
    "# Columns\n",
    "\n",
    "* ID Number\n",
    "* Time\n",
    "* Tumor: Benign, Malignant tumor\n",
    "* Radius\n",
    "* Texture\n",
    "* Perimeter\n",
    "* Area\n",
    "* Smoothness\n",
    "* Compactness\n",
    "* Concavity\n",
    "* Concave Points\n",
    "* Symmetry\n",
    "* Fractal Dimension\n",
    "* Radius Variance\n",
    "* Texture Variance\n",
    "* Perimeter Variance\n",
    "* Area Variance\n",
    "* Smoothness Variance\n",
    "* Compactness Variance\n",
    "* Concavity Variance\n",
    "* Concave Points Variance\n",
    "* Symmetry Variance\n",
    "* Fractal Dimension Variance"
   ]
  },
  {
   "cell_type": "markdown",
   "id": "d5114bc8-88bb-459a-a9da-44aa0333fe20",
   "metadata": {},
   "source": [
    "# Task\n",
    "\n",
    "Create a model, that predict benign or malignant tumor based o cell nuclei features. "
   ]
  },
  {
   "cell_type": "code",
   "execution_count": null,
   "id": "6c1fcf1e-8e79-4b65-a091-7f9d9927a870",
   "metadata": {},
   "outputs": [],
   "source": []
  }
 ],
 "metadata": {
  "kernelspec": {
   "display_name": "Python 3 (ipykernel)",
   "language": "python",
   "name": "python3"
  },
  "language_info": {
   "codemirror_mode": {
    "name": "ipython",
    "version": 3
   },
   "file_extension": ".py",
   "mimetype": "text/x-python",
   "name": "python",
   "nbconvert_exporter": "python",
   "pygments_lexer": "ipython3",
   "version": "3.8.10"
  }
 },
 "nbformat": 4,
 "nbformat_minor": 5
}
