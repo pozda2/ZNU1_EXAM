{
 "cells": [
  {
   "cell_type": "markdown",
   "id": "e4bf3ede-c932-4caa-b0ab-7067e77a0631",
   "metadata": {},
   "source": [
    "# Early Classification of Diabetes\n",
    "\n",
    "\n",
    "Diabetes is one of the fastest growing chronic life threatening diseases that have already affected 422 million people worldwide according to the report of World Health Organization (WHO), in 2018. Due to the presence of a relatively long asymptomatic phase, early detection of diabetes is always desired for a clinically meaningful outcome. Around 50% of all people suffering from diabetes are undiagnosed because of its long-term asymptomatic phase.\n",
    "\n",
    "This dataset contains 520 observations with 17 characteristics, collected using direct questionnaires and diagnosis results from the patients in the Sylhet Diabetes Hospital in Sylhet, Bangladesh"
   ]
  },
  {
   "cell_type": "markdown",
   "id": "4c9732ba-258f-4597-a60f-90df8040dc87",
   "metadata": {},
   "source": [
    "# Columns\n",
    "* age\n",
    "* gender: Male, Female\n",
    "* polyuria: Whether the patient experienced excessive urination or not.\n",
    "* olydipsia: Whether the patient experienced excessive thirst/excess drinking or not.\n",
    "* sudden_weight_loss: Whether patient had an episode of sudden weight loss or not.\n",
    "* weakness: Whether patient had an episode of feeling weak.\n",
    "* polyphagia: Whether patient had an episode of excessive/extreme hunger or not. \n",
    "* genital_thrush: Whether patient had a yeast infection or not.\n",
    "* visual_blurring: Whether patient had an episode of blurred vision.\n",
    "* itching: Whether patient had an episode of itch.\n",
    "* irritability: Whether patient had an episode of irritability.\n",
    "* delayed_healing: Whether patient had an noticed delayed healing when wounded.\n",
    "* partial_paresis: Whether patient had an episode of weakening of a muscle/group of muscles or not.\n",
    "* muscle_stiffness: Whether patient had an episode of muscle stiffness.\n",
    "* alopecia: Whether patient experienced hair loss or not.\n",
    "* obesity: Whether patient can be considered obese or not using his body mass index.\n",
    "* class: Presence of Diabetes"
   ]
  },
  {
   "cell_type": "markdown",
   "id": "8462f84d-db3a-4181-bed8-97de390acd81",
   "metadata": {},
   "source": [
    "# Task\n",
    "Create a binary classification model, that predict diabetes based on patient symptons."
   ]
  },
  {
   "cell_type": "code",
   "execution_count": null,
   "id": "65a167d4-51ac-4232-84c6-152814b65ece",
   "metadata": {},
   "outputs": [],
   "source": []
  }
 ],
 "metadata": {
  "kernelspec": {
   "display_name": "Python 3 (ipykernel)",
   "language": "python",
   "name": "python3"
  },
  "language_info": {
   "codemirror_mode": {
    "name": "ipython",
    "version": 3
   },
   "file_extension": ".py",
   "mimetype": "text/x-python",
   "name": "python",
   "nbconvert_exporter": "python",
   "pygments_lexer": "ipython3",
   "version": "3.8.10"
  }
 },
 "nbformat": 4,
 "nbformat_minor": 5
}
