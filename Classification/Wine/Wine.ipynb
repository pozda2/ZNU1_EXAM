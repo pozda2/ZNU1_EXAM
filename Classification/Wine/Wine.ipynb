{
 "cells": [
  {
   "cell_type": "markdown",
   "id": "9bdfc0cb-4fe8-464f-93d5-c074878bd133",
   "metadata": {},
   "source": [
    "# Wine quality\n",
    "\n",
    "Dataset contains input variables (based on physicochemical tests) for different wines."
   ]
  },
  {
   "cell_type": "markdown",
   "id": "8e204060-a4c2-404d-b9f1-d640cf0374e2",
   "metadata": {},
   "source": [
    "# Columns\n",
    "* fixed acidity: Fixed acidity value\n",
    "* volatile acidity: Volatile acidity value\n",
    "* citric acid: Citric acid value\n",
    "* residual sugar: Residual sugar value\n",
    "* chlorides: Chlorides value\n",
    "* free sulfur dioxide: Free sulfur dioxide value\n",
    "* total sulfur dioxide: Total sulfur dioxide value\n",
    "* density: Density value\n",
    "* pH: pH value\n",
    "* sulphates: Sulphates value\n",
    "* alcohol: Alcohol value\n",
    "* quality: quality on a scale of 0 - 10\n",
    "* id: id of wine sample"
   ]
  },
  {
   "cell_type": "markdown",
   "id": "ee0def10-2e13-43b4-a9e4-8052bf9f5299",
   "metadata": {},
   "source": [
    "# Task\n",
    "Create a model, that predict quality of wine base on physicochemical tests."
   ]
  },
  {
   "cell_type": "code",
   "execution_count": null,
   "id": "b78a86d7-f0a5-411c-9d89-ea70428ff5bc",
   "metadata": {},
   "outputs": [],
   "source": []
  }
 ],
 "metadata": {
  "kernelspec": {
   "display_name": "Python 3 (ipykernel)",
   "language": "python",
   "name": "python3"
  },
  "language_info": {
   "codemirror_mode": {
    "name": "ipython",
    "version": 3
   },
   "file_extension": ".py",
   "mimetype": "text/x-python",
   "name": "python",
   "nbconvert_exporter": "python",
   "pygments_lexer": "ipython3",
   "version": "3.8.10"
  }
 },
 "nbformat": 4,
 "nbformat_minor": 5
}
