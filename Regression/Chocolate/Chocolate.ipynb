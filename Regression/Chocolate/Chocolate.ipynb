{
 "cells": [
  {
   "cell_type": "markdown",
   "id": "5468390f-7eac-4838-940c-c5b6ccd24e01",
   "metadata": {},
   "source": [
    "# Chocolate Ratings\n",
    "\n",
    "Chocolate is paramount in our society, it is a food product made from roasted and ground cacao pods, that is available as a liquid, solid or paste, on its own or as a flavoring agent in other foods. \n",
    "\n",
    "Cacao has been consumed in some form since at least the Olmec civilization (19th-11th century BCE) and the majority of Mesoamerican people - including the Maya and Aztecs - made chocolate beverages.\n",
    "\n",
    "The first solid chocolate bar put into production was made by J. S. Fry & Sons of Bristol, England in 1847 and today it is estimated to be an USD 130.56 billion dollar industry.\n",
    "\n",
    "In light of all of this, this dataset contains reviews on more than 2400 different chocolate bars along with metadata and information on US and Canadian based producers. "
   ]
  },
  {
   "attachments": {},
   "cell_type": "markdown",
   "id": "ca80c954-a7bd-4ae2-9589-1f09c618d999",
   "metadata": {},
   "source": [
    "# Columns\n",
    "* REF: ID of sample\n",
    "* Company (Manufacturer): Company that produces the chocolate bar\n",
    "* Company Location: Country where the company is located\n",
    "* Review Date: Date of the review\n",
    "* Country of Bean Origin: Country where the beans where produced\n",
    "* Specific Bean Origin or Bar Name: Batch information of the beans\n",
    "* Cocoa Percent: Percentage of cocoa in the chocolate bar\n",
    "* Ingredients: Other relevant ingredients present\n",
    "* Most Memorable Characteristics: Reviewers most memorable taste experiences in the review\n",
    "* Rating: Chocolate rating\n",
    "\n",
    "        4.0 - 5.0 = Outstanding\n",
    "        3.5 - 3.9 = Highly Recommended\n",
    "        3.0 - 3.4 = Recommended\n",
    "        2.0 - 2.9 = Disappointing\n",
    "        1.0 - 1.9 = Unpleasant"
   ]
  },
  {
   "cell_type": "markdown",
   "id": "7181e0dd-aab5-435f-a301-83c533090316",
   "metadata": {},
   "source": [
    "# Task\n",
    "Create a model, that predict rating of chocolate based on input features."
   ]
  },
  {
   "cell_type": "code",
   "execution_count": null,
   "id": "31db2b7e-cb21-402c-8035-5abb1407d005",
   "metadata": {},
   "outputs": [],
   "source": []
  }
 ],
 "metadata": {
  "kernelspec": {
   "display_name": "Python 3 (ipykernel)",
   "language": "python",
   "name": "python3"
  },
  "language_info": {
   "codemirror_mode": {
    "name": "ipython",
    "version": 3
   },
   "file_extension": ".py",
   "mimetype": "text/x-python",
   "name": "python",
   "nbconvert_exporter": "python",
   "pygments_lexer": "ipython3",
   "version": "3.8.10"
  }
 },
 "nbformat": 4,
 "nbformat_minor": 5
}
