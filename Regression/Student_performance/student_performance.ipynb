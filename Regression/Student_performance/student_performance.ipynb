{
 "cells": [
  {
   "cell_type": "markdown",
   "id": "1d3461c1-41b4-4e3b-9bb4-031fc6e1ae5e",
   "metadata": {},
   "source": [
    "# Student Performance Data in Portugal\n",
    "\n",
    "This data approach student achievement in secondary education of two Portuguese schools. \n",
    "The data attributes include student grades, demographic, social and school related features) and it was collected by using school reports and questionnaires. \n",
    "Datasets is provided regarding the performance in one distinct subjects: Portuguese language (por).\n",
    "\n",
    "Important note: the target attribute G3 has a strong correlation with attributes G2 and G1. This occurs because G3 is the final year grade (issued at the 3rd period), while G1 and G2 correspond to the 1st and 2nd-period grades. \n",
    "It is more difficult to predict G3 without G2 and G1, but such prediction is much more useful."
   ]
  },
  {
   "cell_type": "markdown",
   "id": "c4a9d897-2a5d-4d46-9df7-cda3a37841f7",
   "metadata": {},
   "source": [
    "# Columns description\n",
    "\n",
    "* school: 'GP' - Gabriel Pereira, 'MS' - Mousinho da Silveira\n",
    "* sex: - F - Female, M - Male\n",
    "* age:  15 -22\n",
    "* address: 'U' - urban, 'R' - rural\n",
    "* family size: GT3 - grather 3 family size, LE3 - less equal 3 family size\n",
    "* Pstatus: parent's cohabitation status (binary: 'T' - living together or 'A' - apart)\n",
    "* Medu: mother's education (numeric: 0 - none, 1 - primary education (4th grade), 2 primary educatio (5th to 9th grade), 3 - secondary education or 4 higher education)\n",
    "* Fedu: father's education (numeric: 0 - none, 1 - primary education (4th grade), 2 primary education(5th to 9th grade), 3 - secondary education or 4 higher education)\n",
    "* Mjob: mother's job (nominal: 'teacher', 'health' care related, civil 'services' (e.g. administrative or police), 'at_home' or 'other')\n",
    "* Fjob: father's job (nominal: 'teacher', 'health' care related, civil 'services' (e.g. administrative or police), 'at_home' or 'other')\n",
    "* reason: reason to choose this school (nominal: close to 'home', school 'reputation', 'course' preference or 'other')\n",
    "* guardian: student's guardian (nominal: 'mother', 'father' or 'other')\n",
    "* traveltime: home to school travel time (numeric: 1 - <15 min., 2 - 15 to 30 min., 3 - 30 min. to 1 hour, or 4 - >1 hour)\n",
    "* studytime: weekly study time (numeric: 1 - <2 hours, 2 - 2 to 5 hours, 3 - 5 to 10 hours, or 4 - >10 hours)\n",
    "* failures: number of past class failures (numeric: n if 1<=n<3, else 4)\n",
    "* schoolsup: extra educational support (binary: yes or no)\n",
    "* famsup: family educational support (binary: yes or no)\n",
    "* paid: extra paid classes within the course subject (Math or Portuguese) (binary: yes or no)\n",
    "* activities: extra-curricular activities (binary: yes or no)\n",
    "* nursery: attended nursery school (binary: yes or no)\n",
    "* higher: wants to take higher education (binary: yes or no)\n",
    "* internet: Internet access at home (binary: yes or no)\n",
    "* romantic: with a romantic relationship (binary: yes or no)\n",
    "* famrel: quality of family relationships (numeric: from 1 - very bad to 5 - excellent)\n",
    "* freetime: free time after school (numeric: from 1 - very low to 5 - very high)\n",
    "* goout: going out with friends (numeric: from 1 - very low to 5 - very high)\n",
    "* Dalc: workday alcohol consumption (numeric: from 1 - very low to 5 - very high)\n",
    "* Walc: weekend alcohol consumption (numeric: from 1 - very low to 5 - very high)\n",
    "* health: current health status (numeric: from 1 - very bad to 5 - very good)\n",
    "* absences: number of school absences (numeric: from 0 to 93)\n",
    "* G1: first period grade (numeric: from 0 to 20)\n",
    "* G2: second period grade (numeric: from 0 to 20)\n",
    "* G3: final grade (numeric: from 0 to 20, output target)"
   ]
  },
  {
   "cell_type": "markdown",
   "id": "e1fd9426-2f4d-4256-a021-4ddffd122499",
   "metadata": {},
   "source": [
    "# Task\n",
    "Create model, that predict final Grade G3 based on demographic, social and school related features."
   ]
  },
  {
   "cell_type": "code",
   "execution_count": null,
   "id": "79d36f2e-51d1-4772-befa-9a5b53250966",
   "metadata": {},
   "outputs": [],
   "source": []
  }
 ],
 "metadata": {
  "kernelspec": {
   "display_name": "Python 3 (ipykernel)",
   "language": "python",
   "name": "python3"
  },
  "language_info": {
   "codemirror_mode": {
    "name": "ipython",
    "version": 3
   },
   "file_extension": ".py",
   "mimetype": "text/x-python",
   "name": "python",
   "nbconvert_exporter": "python",
   "pygments_lexer": "ipython3",
   "version": "3.8.10"
  }
 },
 "nbformat": 4,
 "nbformat_minor": 5
}
