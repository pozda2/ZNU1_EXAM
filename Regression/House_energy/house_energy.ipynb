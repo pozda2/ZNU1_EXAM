{
 "cells": [
  {
   "cell_type": "markdown",
   "id": "5bce6376-7989-48f8-aba6-5740696325a0",
   "metadata": {},
   "source": [
    "# Appliances energy prediction\n",
    "\n",
    "Dataset contains data about appliances, energy use in Wh for house\n",
    "\n",
    "Features are house templeratures, huminidy and outside weather."
   ]
  },
  {
   "cell_type": "markdown",
   "id": "6cda6b1d-19ed-4a05-9357-592b2a3439eb",
   "metadata": {},
   "source": [
    "# Columns \n",
    "* date: time year-month-day hour:minute:second\n",
    "* Appliances: energy use in Wh (target variable for prediction)\n",
    "* lights: , energy use of light fixtures in the house in Wh\n",
    "* T1: Temperature in kitchen area, in Celsius\n",
    "* RH_1: Humidity in kitchen area, in %\n",
    "* T2: Temperature in living room area, in Celsius\n",
    "* RH_2: Humidity in living room area, in %\n",
    "* T3: Temperature in laundry room area\n",
    "* RH_3:  Humidity in laundry room area, in %\n",
    "* T4: Temperature in office room, in Celsius\n",
    "* RH_4: Humidity in office room, in %\n",
    "* T5: Temperature in bathroom, in Celsius\n",
    "* RH_5: Humidity in bathroom, in %\n",
    "* T6: Temperature outside the building (north side), in Celsius\n",
    "* RH_6: Humidity outside the building (north side), in %\n",
    "* T7: Temperature in ironing room , in Celsius\n",
    "* RH_7: Humidity in ironing room, in %\n",
    "* T8: Temperature in teenager room 2, in Celsius\n",
    "* RH_8: Humidity in teenager room 2, in %\n",
    "* T9: Temperature in parents room, in Celsius\n",
    "* RH_9: Humidity in parents room, in %\n",
    "* T_out: Temperature outside, in Celsius\n",
    "* Press_mm: outside presure, in mm Hg\n",
    "* RH_out: Humidity outside, in %\n",
    "* Windspeed: wind speed , in m/s\n",
    "* Visibility: visibility , in km\n",
    "* Tdewpoint: temperature dew point, in Celsius"
   ]
  },
  {
   "cell_type": "markdown",
   "id": "a21c423a-152e-419c-a63c-f4699c6e07cd",
   "metadata": {},
   "source": [
    "# Task\n",
    "Create a model, that predict appliance in Wh"
   ]
  },
  {
   "cell_type": "code",
   "execution_count": null,
   "id": "0a54402f-00e3-4d19-a36a-ab3d676f25c7",
   "metadata": {},
   "outputs": [],
   "source": []
  }
 ],
 "metadata": {
  "kernelspec": {
   "display_name": "Python 3 (ipykernel)",
   "language": "python",
   "name": "python3"
  },
  "language_info": {
   "codemirror_mode": {
    "name": "ipython",
    "version": 3
   },
   "file_extension": ".py",
   "mimetype": "text/x-python",
   "name": "python",
   "nbconvert_exporter": "python",
   "pygments_lexer": "ipython3",
   "version": "3.8.10"
  }
 },
 "nbformat": 4,
 "nbformat_minor": 5
}
