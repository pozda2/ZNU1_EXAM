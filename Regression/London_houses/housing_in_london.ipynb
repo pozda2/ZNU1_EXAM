{
 "cells": [
  {
   "cell_type": "markdown",
   "id": "f739deee-772d-4f2d-97bd-9c0fb8f1f0f0",
   "metadata": {},
   "source": [
    "# London houses\n",
    "\n",
    "The datasets is primarily centered around the housing market of London. However, it contains a lot of additional relevant data:\n",
    "\n",
    "    Monthly average house prices\n",
    "    Yearly number of houses\n",
    "    Yearly number of houses sold\n",
    "    Yearly percentage of households that recycle\n",
    "    Yearly life satisfaction\n",
    "    Yearly median salary of the residents of the area\n",
    "    Yearly mean salary of the residents of the area\n",
    "    Monthly number of crimes committed\n",
    "    Yearly number of jobs\n",
    "    Yearly number of people living in the area\n",
    "    Area size in hectares\n",
    "\n",
    "The data is split by areas of London called boroughs (a flag exists to identify these), but some of the variables have other geographical UK regions for reference (like England, North East, etc.). "
   ]
  },
  {
   "cell_type": "markdown",
   "id": "7fdd143c-87b4-49c3-88b9-c0b58cfcaf66",
   "metadata": {},
   "source": [
    "# Columns\n",
    "\n",
    "* code - Code of the area\n",
    "* area - Area the record describes\n",
    "* date - Time period the record refers to\n",
    "* median_salary - Median salary of the individuals living in the area\n",
    "* life_satisfaction - Life satisfaction of the individuals living in the area\n",
    "* mean_salary - Mean salary of the individuals living in the area\n",
    "* recycling_pct - Percentage of households recycling\n",
    "* population_size - Number of people living in the area\n",
    "* number_of_jobs - Number of jobs in the area\n",
    "* area_size - Size of the area (in hectares)\n",
    "* no_of_houses - Number of houses in the area\n",
    "* borough_flag - Flag to indicate if the area is a borough of London"
   ]
  },
  {
   "cell_type": "markdown",
   "id": "253c19ac-4349-488d-954e-1d63c247f645",
   "metadata": {},
   "source": [
    "# Task\n",
    "Create a model, that predict salary, based on information about place, where person live."
   ]
  },
  {
   "cell_type": "code",
   "execution_count": null,
   "id": "283b93c8-ac3c-4d43-9580-a8fa4d941b6c",
   "metadata": {},
   "outputs": [],
   "source": []
  }
 ],
 "metadata": {
  "kernelspec": {
   "display_name": "Python 3 (ipykernel)",
   "language": "python",
   "name": "python3"
  },
  "language_info": {
   "codemirror_mode": {
    "name": "ipython",
    "version": 3
   },
   "file_extension": ".py",
   "mimetype": "text/x-python",
   "name": "python",
   "nbconvert_exporter": "python",
   "pygments_lexer": "ipython3",
   "version": "3.8.10"
  }
 },
 "nbformat": 4,
 "nbformat_minor": 5
}
