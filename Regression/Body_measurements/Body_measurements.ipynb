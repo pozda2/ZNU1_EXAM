{
 "cells": [
  {
   "cell_type": "markdown",
   "id": "1d3461c1-41b4-4e3b-9bb4-031fc6e1ae5e",
   "metadata": {},
   "source": [
    "# Body measurements\n",
    "\n",
    "This data contains body measurements of different people."
   ]
  },
  {
   "cell_type": "markdown",
   "id": "c4a9d897-2a5d-4d46-9df7-cda3a37841f7",
   "metadata": {},
   "source": [
    "# Columns description\n",
    "\n",
    "* Gender (Male and Female (M=1 & F=2)\n",
    "* Age (1 year and above)\n",
    "* HeadCircumference (in inches)\n",
    "* ShoulderWidth (in inches)\n",
    "* ChestWidth (in inches)\n",
    "* Belly (in inches)\n",
    "* Waist (in inches)\n",
    "* Hips (in inches)\n",
    "* ArmLength (in inches)\n",
    "* Shoulder To Waist (in inches)\n",
    "* Waist To Knee (in inches)\n",
    "* LegLength (in inches)\n",
    "* Total Height - from head to toe (in inches)"
   ]
  },
  {
   "cell_type": "markdown",
   "id": "a6066021-48d9-4cfe-ad2c-0403d009e57b",
   "metadata": {},
   "source": [
    "# Task\n",
    "Create model, that predict age based on person sizes. Model may not contain all columns."
   ]
  },
  {
   "cell_type": "code",
   "execution_count": null,
   "id": "ca2e9bef-040b-46c9-bbae-6978778e2bd2",
   "metadata": {},
   "outputs": [],
   "source": []
  }
 ],
 "metadata": {
  "kernelspec": {
   "display_name": "Python 3 (ipykernel)",
   "language": "python",
   "name": "python3"
  },
  "language_info": {
   "codemirror_mode": {
    "name": "ipython",
    "version": 3
   },
   "file_extension": ".py",
   "mimetype": "text/x-python",
   "name": "python",
   "nbconvert_exporter": "python",
   "pygments_lexer": "ipython3",
   "version": "3.8.10"
  }
 },
 "nbformat": 4,
 "nbformat_minor": 5
}
