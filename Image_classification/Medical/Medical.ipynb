{
 "cells": [
  {
   "cell_type": "markdown",
   "id": "b2ffb34e-66ad-40c8-8959-396f9ec210ae",
   "metadata": {},
   "source": [
    "# Medical images\n",
    "\n",
    "This dataset is a simple MNIST-style medical images in 64x64 dimension\n",
    "\n",
    "There are 58954 medical images belonging to 6 classes.\n",
    "* Abdomen CT\n",
    "* Breasts CT\n",
    "* ChesT CT\n",
    "* CXR\n",
    "* Hand\n",
    "* Head CT\n",
    "\n",
    "Images are saved in jpeg format."
   ]
  },
  {
   "cell_type": "markdown",
   "id": "e25b7fc8-0905-4266-bc1f-77a8ffec218a",
   "metadata": {},
   "source": [
    "# Task\n",
    "Create a model, that catogorize image into one of class."
   ]
  },
  {
   "cell_type": "code",
   "execution_count": null,
   "id": "7d1ccb44-f73c-40ff-b959-e20787d34da1",
   "metadata": {},
   "outputs": [],
   "source": []
  }
 ],
 "metadata": {
  "kernelspec": {
   "display_name": "Python 3 (ipykernel)",
   "language": "python",
   "name": "python3"
  },
  "language_info": {
   "codemirror_mode": {
    "name": "ipython",
    "version": 3
   },
   "file_extension": ".py",
   "mimetype": "text/x-python",
   "name": "python",
   "nbconvert_exporter": "python",
   "pygments_lexer": "ipython3",
   "version": "3.8.10"
  }
 },
 "nbformat": 4,
 "nbformat_minor": 5
}
