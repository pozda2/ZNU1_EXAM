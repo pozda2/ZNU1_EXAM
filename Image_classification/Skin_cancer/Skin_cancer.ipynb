{
 "cells": [
  {
   "cell_type": "markdown",
   "id": "71cf734e-3868-4eb3-bf99-2c29e109ead4",
   "metadata": {},
   "source": [
    "# Skin Cancer\n",
    "\n",
    "This dataset is a collection of JPEG files containing either cancerous or non-cancerous skin images."
   ]
  },
  {
   "cell_type": "markdown",
   "id": "b8c22801-07cc-470e-899e-1b518a228f9f",
   "metadata": {},
   "source": [
    "# Task\n",
    "Create a model, that recognize cancer skin."
   ]
  },
  {
   "cell_type": "code",
   "execution_count": null,
   "id": "5fa04766-8926-46ab-91a4-a7c952fa4e07",
   "metadata": {},
   "outputs": [],
   "source": []
  }
 ],
 "metadata": {
  "kernelspec": {
   "display_name": "Python 3 (ipykernel)",
   "language": "python",
   "name": "python3"
  },
  "language_info": {
   "codemirror_mode": {
    "name": "ipython",
    "version": 3
   },
   "file_extension": ".py",
   "mimetype": "text/x-python",
   "name": "python",
   "nbconvert_exporter": "python",
   "pygments_lexer": "ipython3",
   "version": "3.8.10"
  }
 },
 "nbformat": 4,
 "nbformat_minor": 5
}
