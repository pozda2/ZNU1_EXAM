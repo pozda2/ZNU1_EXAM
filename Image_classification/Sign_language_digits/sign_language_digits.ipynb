{
 "cells": [
  {
   "cell_type": "markdown",
   "id": "1b5d467e-b7d8-456a-888f-4b904e3bda9a",
   "metadata": {},
   "source": [
    "# Sign language digitals\n",
    "\n",
    "Sign languages (also known as signed languages) are languages that use manual communication to convey meaning. This can include simultaneously employing hand gestures, movement, orientation of the fingers, arms or body, and facial expressions to convey a speaker's ideas. Source: https://en.wikipedia.org/wiki/Sign_language"
   ]
  },
  {
   "cell_type": "markdown",
   "id": "9cefc765-de14-458c-9066-94b2a7e30b8a",
   "metadata": {},
   "source": [
    "# Details of datasets\n",
    "\n",
    "* Image size: 64x64\n",
    "* Color space: Grayscale\n",
    "* File format: npy\n",
    "* Number of classes: 10 (Digits: 0-9)"
   ]
  },
  {
   "cell_type": "markdown",
   "id": "44ebb457-48ad-43e4-b6b8-aa6437db0338",
   "metadata": {},
   "source": [
    "# Task\n",
    "Create a model, that recognize sign language digitals from image."
   ]
  },
  {
   "cell_type": "code",
   "execution_count": null,
   "id": "f1417014-2ae6-4534-8b60-1da369cc8220",
   "metadata": {},
   "outputs": [],
   "source": []
  }
 ],
 "metadata": {
  "kernelspec": {
   "display_name": "Python 3 (ipykernel)",
   "language": "python",
   "name": "python3"
  },
  "language_info": {
   "codemirror_mode": {
    "name": "ipython",
    "version": 3
   },
   "file_extension": ".py",
   "mimetype": "text/x-python",
   "name": "python",
   "nbconvert_exporter": "python",
   "pygments_lexer": "ipython3",
   "version": "3.8.10"
  }
 },
 "nbformat": 4,
 "nbformat_minor": 5
}
